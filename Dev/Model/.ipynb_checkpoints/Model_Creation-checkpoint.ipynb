{
 "cells": [
  {
   "cell_type": "markdown",
   "metadata": {},
   "source": [
    "***\n",
    "MNIST Model Creation\n",
    "***\n",
    "\n",
    "*By Jared Kelnhofer, 10-02-2020*\n",
    "\n",
    "The purpose of this portion of the project is to create a model that can accurately categorize handwritten digits. This model will then be used in the main body of the project. I'll be using the MNIST handwritten digit dataset, and saving it in the /Dataset directory which is in the same directory as this notebook. TODO: add a way to load the local dataset instead of downloading it!"
   ]
  },
  {
   "cell_type": "code",
   "execution_count": 1,
   "metadata": {},
   "outputs": [],
   "source": [
    "import matplotlib.pyplot as plt\n",
    "import numpy as np\n",
    "import pandas as pd\n",
    "import pickle\n",
    "import random\n",
    "\n",
    "import os\n",
    "if not os.path.exists('./Dataset'):\n",
    "    os.makedirs('./Dataset')\n",
    "\n",
    "from sklearn.datasets import fetch_openml\n",
    "mnist = fetch_openml(\"mnist_784\", version=1, data_home=\"./Dataset\")"
   ]
  },
  {
   "cell_type": "markdown",
   "metadata": {},
   "source": [
    "Now I'll check out the MNIST dataset, and gain some insight on how it is structured:"
   ]
  },
  {
   "cell_type": "code",
   "execution_count": 2,
   "metadata": {},
   "outputs": [
    {
     "name": "stdout",
     "output_type": "stream",
     "text": [
      "dict_keys(['data', 'target', 'frame', 'categories', 'feature_names', 'target_names', 'DESCR', 'details', 'url'])\n",
      "Shape of \"data\" key: (70000, 784)\n",
      "Shape of \"target\" key: (70000,)\n"
     ]
    }
   ],
   "source": [
    "print(mnist.keys())\n",
    "print(\"Shape of \\\"data\\\" key: \" + str(np.shape(mnist.data)))\n",
    "print(\"Shape of \\\"target\\\" key: \" + str(np.shape(mnist.target)))"
   ]
  },
  {
   "cell_type": "markdown",
   "metadata": {},
   "source": [
    "Sicne the square root of 784 is 28, I'm going to assume that the images are 28 by 28 pixels. I'm not sure why they're not stored in a 3d vector, but it doesn't really matter. Numpy has a function \"reshape\" that will let me change the shape of the 1D vector representing any image into a 28 by 28 matrix, and thus view it."
   ]
  },
  {
   "cell_type": "code",
   "execution_count": 3,
   "metadata": {},
   "outputs": [
    {
     "name": "stdout",
     "output_type": "stream",
     "text": [
      "test_image default shape is: (784,)\n",
      "test_image new shape is: (28, 28)\n"
     ]
    },
    {
     "data": {
      "image/png": "[encoded data removed]",
      "text/plain": [
       "<Figure size 432x288 with 1 Axes>"
      ]
     },
     "metadata": {
      "needs_background": "light"
     },
     "output_type": "display_data"
    },
    {
     "name": "stdout",
     "output_type": "stream",
     "text": [
      "Label: 9\n",
      "highest pixel value: 255.0\n",
      "lowest pixel value: 0.0\n",
      "First pixel amount: 0.0\n"
     ]
    }
   ],
   "source": [
    "index = random.randint(0, 70000)\n",
    "\n",
    "test_image = mnist.data[index]\n",
    "print(\"test_image default shape is: \" + str(np.shape(test_image)))\n",
    "test_image = test_image.reshape(28, 28)\n",
    "print(\"test_image new shape is: \" + str(np.shape(test_image)))\n",
    "\n",
    "\n",
    "plt.imshow(test_image, cmap=\"binary\")\n",
    "plt.show()\n",
    "\n",
    "print(\"Label: \" + mnist.target[index])\n",
    "\n",
    "print(\"highest pixel value: \" + str(np.max(mnist.data[index])))\n",
    "print(\"lowest pixel value: \" + str(np.min(mnist.data[index])))\n",
    "print(\"First pixel amount: \" + str(mnist.data[index][0]))"
   ]
  },
  {
   "cell_type": "markdown",
   "metadata": {},
   "source": [
    "Now it's time to split up the data into the training and test sets. MNIST has the last 10,000 images set aside as testing images, and the same goes for the target labels. MNIST comes pre-shuffled, so I don't have to worry about stratified splitting. (Note: we also know now that the images have 0 as the background and high values as the number.)"
   ]
  },
  {
   "cell_type": "code",
   "execution_count": 4,
   "metadata": {},
   "outputs": [
    {
     "name": "stdout",
     "output_type": "stream",
     "text": [
      "X_train shape: (60000, 784)\n",
      "X_test shape: (10000, 784)\n",
      "Y_train shape: (60000,)\n",
      "Y_test shape: (10000,)\n"
     ]
    }
   ],
   "source": [
    "X_train = mnist.data[:60000]\n",
    "X_test = mnist.data[60000:]\n",
    "Y_train = mnist.target[:60000]\n",
    "Y_test = mnist.target[60000:]\n",
    "\n",
    "print(\"X_train shape: \" + str(np.shape(X_train)))\n",
    "print(\"X_test shape: \" + str(np.shape(X_test)))\n",
    "print(\"Y_train shape: \" + str(np.shape(Y_train)))\n",
    "print(\"Y_test shape: \" + str(np.shape(Y_test)))"
   ]
  },
  {
   "cell_type": "markdown",
   "metadata": {},
   "source": [
    "Now all I need to do is create a model that can categorize the data with at least 97% accuracy, and test it to make sure I am not overfitting. Then I'll save the model, and move on to the rest of this project! This is where I'll add my hyperparameter tuning!"
   ]
  },
  {
   "cell_type": "code",
   "execution_count": 5,
   "metadata": {},
   "outputs": [
    {
     "data": {
      "text/plain": [
       "DecisionTreeClassifier()"
      ]
     },
     "execution_count": 5,
     "metadata": {},
     "output_type": "execute_result"
    }
   ],
   "source": [
    "from sklearn.tree import DecisionTreeClassifier\n",
    "\n",
    "tree = DecisionTreeClassifier()\n",
    "tree.fit(X_train, Y_train)"
   ]
  },
  {
   "cell_type": "markdown",
   "metadata": {},
   "source": [
    "Let's see how well that worked!"
   ]
  },
  {
   "cell_type": "code",
   "execution_count": 6,
   "metadata": {},
   "outputs": [],
   "source": [
    "Y_predict = tree.predict(X_test)"
   ]
  },
  {
   "cell_type": "markdown",
   "metadata": {},
   "source": [
    "Aight, let's see a confusion matrix that compares the actual labels of our test data to the model's predictions. While we're at it, let's check out the accuracy and loss of the model."
   ]
  },
  {
   "cell_type": "code",
   "execution_count": 7,
   "metadata": {},
   "outputs": [
    {
     "name": "stdout",
     "output_type": "stream",
     "text": [
      "confusion matrix:\n",
      "[[ 914    0   10    6    5   13   10    5    9    8]\n",
      " [   3 1089    8    8    2    3    7    5    9    1]\n",
      " [   7    8  895   30   15   11   10   25   24    7]\n",
      " [   7    6   30  864    5   41    6    5   24   22]\n",
      " [   7    4    4    7  861    7   14   14   23   41]\n",
      " [  15    6    3   45   10  742   24    5   27   15]\n",
      " [  17    6   12    7   18   19  853    2   21    3]\n",
      " [   2   12   22   16    8    5    2  931    5   25]\n",
      " [  12    9   30   41   25   30   13    9  783   22]\n",
      " [  16    5   12   18   42   13    4   22   22  855]]\n",
      "accuracy:0.8787\n"
     ]
    }
   ],
   "source": [
    "from sklearn.metrics import confusion_matrix\n",
    "print(\"confusion matrix:\")\n",
    "print(confusion_matrix(Y_test, Y_predict))\n",
    "\n",
    "print(\"accuracy:\" + str(tree.score(X_test, Y_test)))"
   ]
  },
  {
   "cell_type": "markdown",
   "metadata": {},
   "source": [
    "That looks good enough! Now I'll save the model with pickle, and test re-loading it into the system. I'll also use the score() method to find out what my mean accuracy is on the image recognition."
   ]
  },
  {
   "cell_type": "code",
   "execution_count": 8,
   "metadata": {},
   "outputs": [
    {
     "name": "stdout",
     "output_type": "stream",
     "text": [
      "saving model to: /home/admin/Desktop/DigitRecognizer/Dev/Model/trained_tree.pickle\n",
      "loading model!\n",
      "mean accuracy: 0.8787\n"
     ]
    }
   ],
   "source": [
    "this_files_directory = os.getcwd()\n",
    "filename = this_files_directory + '/trained_tree.pickle'\n",
    "pickle.dump(tree, open(filename, 'wb'))\n",
    "\n",
    "print(\"saving model to: \" + str(filename))\n",
    "\n",
    "loaded_model = pickle.load(open(filename, 'rb'))\n",
    "result = loaded_model.score(X_test, Y_test)\n",
    "\n",
    "print(\"loading model!\")\n",
    "print(\"mean accuracy: \" + str(result))"
   ]
  },
  {
   "cell_type": "markdown",
   "metadata": {},
   "source": [
    "Now that the model is saved, and I know I can load it, I'll move onto the other portion of this project -- the GUI."
   ]
  }
 ],
 "metadata": {
  "kernelspec": {
   "display_name": "Python 3",
   "language": "python",
   "name": "python3"
  },
  "language_info": {
   "codemirror_mode": {
    "name": "ipython",
    "version": 3
   },
   "file_extension": ".py",
   "mimetype": "text/x-python",
   "name": "python",
   "nbconvert_exporter": "python",
   "pygments_lexer": "ipython3",
   "version": "3.8.3"
  }
 },
 "nbformat": 4,
 "nbformat_minor": 4
}
