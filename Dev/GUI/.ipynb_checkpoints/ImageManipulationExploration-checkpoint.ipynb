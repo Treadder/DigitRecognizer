{
 "cells": [
  {
   "cell_type": "markdown",
   "metadata": {},
   "source": [
    "This notebook is for me to have a way to practice resizing, saving, and manipulating images. The "
   ]
  },
  {
   "cell_type": "code",
   "execution_count": 3,
   "metadata": {
    "scrolled": true
   },
   "outputs": [],
   "source": [
    "import os\n",
    "import matplotlib.pyplot as plt"
   ]
  },
  {
   "cell_type": "code",
   "execution_count": null,
   "metadata": {},
   "outputs": [],
   "source": [
    "filename = \"saved_image.jpg\"\n",
    "this_files_directory = os.path.dirname(os.path.abspath(__file__))\n",
    "image_path = this_files_directory+\"/\"+filename\n",
    "print(\"path to save is: \" + str(image_path))\n",
    "#TODO SHOW IMAGE\n",
    "self.image = self.image.resize([28, 28])   #TODO SHOW IT\n",
    "self.image.save(image_path)#save the image right beside this file! Also, make sure it's 28 by 28.\n",
    "        \n",
    "#transform image into greyscale 1 by 784 array with  pixels in [0, 255] range.\n",
    "loaded_image = np.asarray(Image.open(image_path))\n",
    "\n",
    "#get a lazy greyscale. Img is now 28 by 28. Check\n",
    "#https://e2eml.school/convert_rgb_to_grayscale.html for a better way to do this if it isn't good enough.\n",
    "loaded_image = np.mean(loaded_image, axis=2)\n",
    "loaded_image = np.reshape(loaded_image, [1, 784])#TODO SHOW IT\n",
    "\n",
    "#load the model and guess\n",
    "self.text[\"text\"] = \"\" #clear all 12 possile characters in the text widgit first\n",
    "model_path = this_files_directory + '/../Model/trained_tree.pickle'\n",
    "loaded_model = pickle.load(open(model_path, 'rb'))\n",
    "prediction = (loaded_model.predict(loaded_image)[0])\n",
    "print(\"prediction: \" + prediction)\n",
    "self.text[\"text\"] =  (\"prediction: \" + prediction)\n"
   ]
  }
 ],
 "metadata": {
  "kernelspec": {
   "display_name": "Python 3",
   "language": "python",
   "name": "python3"
  },
  "language_info": {
   "codemirror_mode": {
    "name": "ipython",
    "version": 3
   },
   "file_extension": ".py",
   "mimetype": "text/x-python",
   "name": "python",
   "nbconvert_exporter": "python",
   "pygments_lexer": "ipython3",
   "version": "3.8.3"
  }
 },
 "nbformat": 4,
 "nbformat_minor": 4
}
