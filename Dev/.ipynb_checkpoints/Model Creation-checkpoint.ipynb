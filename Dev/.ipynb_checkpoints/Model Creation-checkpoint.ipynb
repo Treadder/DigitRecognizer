{
 "cells": [
  {
   "cell_type": "markdown",
   "metadata": {},
   "source": [
    "***\n",
    "MNIST Model Creation\n",
    "***\n",
    "\n",
    "*By Jared Kelnhofer, 10-02-2020*\n",
    "\n",
    "The purpose of this portion of the project is to create a model that can accurately categorize handwritten digits. This model will then be used in the main body of the project. I'll be using the MNIST handwritten digit dataset, and saving it in the /Dataset directory which is in the same directory as this notebook. TODO: add a way to load the local dataset instead of downloading it!"
   ]
  },
  {
   "cell_type": "code",
   "execution_count": 1,
   "metadata": {},
   "outputs": [],
   "source": [
    "import matplotlib.pyplot as plt\n",
    "import numpy as np\n",
    "import pandas as pd\n",
    "\n",
    "import os\n",
    "if not os.path.exists('./Dataset'):\n",
    "    os.makedirs('./Dataset')\n",
    "\n",
    "from sklearn.datasets import fetch_openml\n",
    "mnist = fetch_openml(\"mnist_784\", version=1, data_home=\"./Dataset\")"
   ]
  },
  {
   "cell_type": "markdown",
   "metadata": {},
   "source": [
    "Now I'll check out the MNIST dataset, and gain some insight on how it is structured:"
   ]
  },
  {
   "cell_type": "code",
   "execution_count": 2,
   "metadata": {},
   "outputs": [
    {
     "name": "stdout",
     "output_type": "stream",
     "text": [
      "dict_keys(['data', 'target', 'frame', 'categories', 'feature_names', 'target_names', 'DESCR', 'details', 'url'])\n",
      "Shape of \"data\" key: (70000, 784)\n",
      "Shape of \"target\" key: (70000,)\n"
     ]
    }
   ],
   "source": [
    "print(mnist.keys())\n",
    "print(\"Shape of \\\"data\\\" key: \" + str(np.shape(mnist.data)))\n",
    "print(\"Shape of \\\"target\\\" key: \" + str(np.shape(mnist.target)))"
   ]
  },
  {
   "cell_type": "markdown",
   "metadata": {},
   "source": [
    "Sicne the square root of 784 is 28, I'm going to assume that the images are 28 by 28 pixels. I'm not sure why they're not stored in a 3d vector, but it doesn't really matter. Numpy has a function \"reshape\" that will let me change the shape of the 1D vector representing any image into a 28 by 28 matrix, and thus view it."
   ]
  },
  {
   "cell_type": "code",
   "execution_count": 3,
   "metadata": {},
   "outputs": [
    {
     "data": {
      "image/png": "[encoded data removed]",
      "text/plain": [
       "<Figure size 432x288 with 1 Axes>"
      ]
     },
     "metadata": {
      "needs_background": "light"
     },
     "output_type": "display_data"
    },
    {
     "name": "stdout",
     "output_type": "stream",
     "text": [
      "Label: 0\n"
     ]
    }
   ],
   "source": [
    "import random\n",
    "\n",
    "index = random.randint(0, 70000)\n",
    "\n",
    "test_image = mnist.data[index]\n",
    "test_image = test_image.reshape(28, 28)\n",
    "\n",
    "plt.imshow(test_image)\n",
    "plt.show()\n",
    "\n",
    "print(\"Label: \" + mnist.target[index])"
   ]
  },
  {
   "cell_type": "markdown",
   "metadata": {},
   "source": [
    "Now it's time to split up the data into the training and test sets. MNIST has the last 10,000 images set aside as testing images, and the same goes for the target labels. MNIST comes pre-shuffled, so I don't have to worry about stratified splitting."
   ]
  },
  {
   "cell_type": "code",
   "execution_count": 13,
   "metadata": {},
   "outputs": [
    {
     "name": "stdout",
     "output_type": "stream",
     "text": [
      "X_train shape: (60000, 784)\n",
      "X_test shape: (10000, 784)\n",
      "Y_train shape: (60000,)\n",
      "Y_test shape: (10000,)\n"
     ]
    }
   ],
   "source": [
    "X_train = mnist.data[:60000]\n",
    "X_test = mnist.data[60000:]\n",
    "Y_train = mnist.target[:60000]\n",
    "Y_test = mnist.target[60000:]\n",
    "\n",
    "print(\"X_train shape: \" + str(np.shape(X_train)))\n",
    "print(\"X_test shape: \" + str(np.shape(X_test)))\n",
    "print(\"Y_train shape: \" + str(np.shape(Y_train)))\n",
    "print(\"Y_test shape: \" + str(np.shape(Y_test)))"
   ]
  },
  {
   "cell_type": "markdown",
   "metadata": {},
   "source": [
    "Now all I need to do is create a model that can categorize the data with at least 97% accuracy, and test it to make sure I am not overfitting. Then I'll save the model, and move on to the rest of this project!"
   ]
  },
  {
   "cell_type": "code",
   "execution_count": 14,
   "metadata": {},
   "outputs": [
    {
     "data": {
      "text/plain": [
       "DecisionTreeClassifier()"
      ]
     },
     "execution_count": 14,
     "metadata": {},
     "output_type": "execute_result"
    }
   ],
   "source": [
    "from sklearn.tree import DecisionTreeClassifier\n",
    "\n",
    "tree = DecisionTreeClassifier()\n",
    "tree.fit(X_train, Y_train)"
   ]
  },
  {
   "cell_type": "markdown",
   "metadata": {},
   "source": [
    "Let's see how well that worked! I might have to do some hyperparameter tuning or cross-validation or something."
   ]
  },
  {
   "cell_type": "code",
   "execution_count": 19,
   "metadata": {},
   "outputs": [],
   "source": [
    "Y_predict = tree.predict(X_test)"
   ]
  },
  {
   "cell_type": "markdown",
   "metadata": {},
   "source": [
    "Aight, let's see a confusion matrix that compares the actual labels of our test data to the model's predictions. While we're at it, let's check out the accuracy and loss of the model."
   ]
  },
  {
   "cell_type": "code",
   "execution_count": 21,
   "metadata": {},
   "outputs": [
    {
     "data": {
      "text/plain": [
       "array([[ 915,    0,    8,    6,    5,   13,   12,    5,   10,    6],\n",
       "       [   2, 1092,   11,    3,    2,    7,    5,    4,    8,    1],\n",
       "       [  13,    7,  887,   31,   10,   15,   12,   25,   24,    8],\n",
       "       [   8,    6,   30,  863,    4,   40,    1,    7,   27,   24],\n",
       "       [   3,    6,    9,    1,  864,   10,   14,    6,   20,   49],\n",
       "       [  12,    9,    4,   42,    9,  746,   24,    3,   24,   19],\n",
       "       [  15,    3,   12,    5,   16,   21,  853,    0,   30,    3],\n",
       "       [   2,   12,   25,   15,    7,    7,    3,  927,    8,   22],\n",
       "       [  11,    8,   31,   36,   24,   27,   17,    6,  786,   28],\n",
       "       [  13,    5,    5,   20,   45,   15,    6,   17,   29,  854]])"
      ]
     },
     "execution_count": 21,
     "metadata": {},
     "output_type": "execute_result"
    }
   ],
   "source": [
    "from sklearn.metrics import confusion_matrix\n",
    "confusion_matrix(Y_test, Y_predict)\n",
    "\n",
    "print(\"\")#find accuracy!"
   ]
  },
  {
   "cell_type": "markdown",
   "metadata": {},
   "source": []
  },
  {
   "cell_type": "code",
   "execution_count": null,
   "metadata": {},
   "outputs": [],
   "source": []
  },
  {
   "cell_type": "code",
   "execution_count": null,
   "metadata": {},
   "outputs": [],
   "source": []
  },
  {
   "cell_type": "code",
   "execution_count": null,
   "metadata": {},
   "outputs": [],
   "source": []
  }
 ],
 "metadata": {
  "kernelspec": {
   "display_name": "Python 3",
   "language": "python",
   "name": "python3"
  },
  "language_info": {
   "codemirror_mode": {
    "name": "ipython",
    "version": 3
   },
   "file_extension": ".py",
   "mimetype": "text/x-python",
   "name": "python",
   "nbconvert_exporter": "python",
   "pygments_lexer": "ipython3",
   "version": "3.8.3"
  }
 },
 "nbformat": 4,
 "nbformat_minor": 4
}
